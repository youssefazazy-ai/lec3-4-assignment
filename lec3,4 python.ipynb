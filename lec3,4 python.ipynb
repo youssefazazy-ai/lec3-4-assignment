{
 "cells": [
  {
   "cell_type": "markdown",
   "metadata": {},
   "source": [
    "# Practice    \n",
    "# Enjoy^_^"
   ]
  },
  {
   "cell_type": "markdown",
   "metadata": {},
   "source": [
    "# Calculating Average of Numbers Using Functions"
   ]
  },
  {
   "cell_type": "code",
   "execution_count": 2,
   "metadata": {},
   "outputs": [
    {
     "name": "stdout",
     "output_type": "stream",
     "text": [
      "The average of the numbers is: 30.0\n"
     ]
    }
   ],
   "source": [
    "\n",
    "def calculate_average(numbers):\n",
    "    \"\"\"\n",
    "    Function to calculate the average of a list of numbers.\n",
    "    \n",
    "    Parameters:\n",
    "    numbers (list): A list of numbers to calculate the average for.\n",
    "    \n",
    "    Returns:\n",
    "    float: The average of the numbers.\n",
    "    \"\"\"\n",
    "    if len(numbers) == 0:\n",
    "        return 0  \n",
    "    total = sum(numbers)  \n",
    "    count = len(numbers)  \n",
    "    average = total / count\n",
    "    return average\n",
    "\n",
    "numbers = [10, 20, 30, 40, 50]\n",
    "average = calculate_average(numbers)\n",
    "print(f\"The average of the numbers is: {average}\")\n"
   ]
  },
  {
   "cell_type": "markdown",
   "metadata": {},
   "source": [
    "# Finding the Longest Word in a List"
   ]
  },
  {
   "cell_type": "code",
   "execution_count": 3,
   "metadata": {},
   "outputs": [
    {
     "name": "stdout",
     "output_type": "stream",
     "text": [
      "The longest word is: strawberry\n"
     ]
    }
   ],
   "source": [
    "\n",
    "def find_longest_word(words):\n",
    "    \"\"\"\n",
    "    Function to find the longest word in a list of words.\n",
    "    \n",
    "    Parameters:\n",
    "    words (list): A list of words.\n",
    "    \n",
    "    Returns:\n",
    "    str: The longest word in the list.\n",
    "    \"\"\"\n",
    "    if not words:  \n",
    "        return None  \n",
    "    longest_word = words[0]  \n",
    "    for word in words:\n",
    "        if len(word) > len(longest_word):\n",
    "            longest_word = word\n",
    "    return longest_word\n",
    "words = [\"apple\", \"banana\", \"strawberry\", \"kiwi\", \"blueberry\"]\n",
    "longest = find_longest_word(words)\n",
    "print(f\"The longest word is: {longest}\")\n"
   ]
  },
  {
   "cell_type": "markdown",
   "metadata": {},
   "source": []
  },
  {
   "cell_type": "markdown",
   "metadata": {},
   "source": [
    "# Checking if a Number is Prime"
   ]
  },
  {
   "cell_type": "code",
   "execution_count": 4,
   "metadata": {},
   "outputs": [
    {
     "name": "stdout",
     "output_type": "stream",
     "text": [
      "3 is a prime number.\n"
     ]
    }
   ],
   "source": [
    "def is_prime(number):\n",
    "    if number <= 1:\n",
    "        return False\n",
    "    for i in range(2, int(number**0.5) + 1):\n",
    "        if number % i == 0:\n",
    "            return False\n",
    "    return True\n",
    "\n",
    "number = int(input(\"Enter a number: \"))\n",
    "if is_prime(number):\n",
    "    print(f\"{number} is a prime number.\")\n",
    "else:\n",
    "    print(f\"{number} is not a prime number.\")\n"
   ]
  },
  {
   "cell_type": "markdown",
   "metadata": {},
   "source": []
  },
  {
   "cell_type": "markdown",
   "metadata": {},
   "source": [
    "# Converting Temperature Units"
   ]
  },
  {
   "cell_type": "code",
   "execution_count": 5,
   "metadata": {},
   "outputs": [
    {
     "name": "stdout",
     "output_type": "stream",
     "text": [
      "Invalid units.\n"
     ]
    }
   ],
   "source": [
    "def convert_temperature(value, from_unit, to_unit):\n",
    "    if from_unit == \"Celsius\":\n",
    "        if to_unit == \"Fahrenheit\":\n",
    "            return (value * 9/5) + 32\n",
    "        elif to_unit == \"Kelvin\":\n",
    "            return value + 273.15\n",
    "    elif from_unit == \"Fahrenheit\":\n",
    "        if to_unit == \"Celsius\":\n",
    "            return (value - 32) * 5/9\n",
    "        elif to_unit == \"Kelvin\":\n",
    "            return (value - 32) * 5/9 + 273.15\n",
    "    elif from_unit == \"Kelvin\":\n",
    "        if to_unit == \"Celsius\":\n",
    "            return value - 273.15\n",
    "        elif to_unit == \"Fahrenheit\":\n",
    "            return (value - 273.15) * 9/5 + 32\n",
    "    return None\n",
    "\n",
    "value = float(input(\"Enter the temperature value: \"))\n",
    "from_unit = input(\"Enter the unit to convert from (Celsius, Fahrenheit, Kelvin): \")\n",
    "to_unit = input(\"Enter the unit to convert to (Celsius, Fahrenheit, Kelvin): \")\n",
    "\n",
    "result = convert_temperature(value, from_unit, to_unit)\n",
    "if result is not None:\n",
    "    print(f\"{value} {from_unit} is equal to {result} {to_unit}.\")\n",
    "else:\n",
    "    print(\"Invalid units.\")\n"
   ]
  },
  {
   "cell_type": "markdown",
   "metadata": {},
   "source": []
  },
  {
   "cell_type": "markdown",
   "metadata": {},
   "source": [
    "# Generating a List of Squares Using List Comprehension and Functions"
   ]
  },
  {
   "cell_type": "code",
   "execution_count": 6,
   "metadata": {},
   "outputs": [
    {
     "name": "stdout",
     "output_type": "stream",
     "text": [
      "The list of squares from 1 to 5 is: [1, 4, 9, 16, 25]\n"
     ]
    }
   ],
   "source": [
    "def generate_squares(n):\n",
    "    return [x ** 2 for x in range(1, n + 1)]\n",
    "\n",
    "n = int(input(\"Enter a number: \"))\n",
    "squares = generate_squares(n)\n",
    "print(f\"The list of squares from 1 to {n} is: {squares}\")\n"
   ]
  },
  {
   "cell_type": "markdown",
   "metadata": {},
   "source": []
  },
  {
   "cell_type": "markdown",
   "metadata": {},
   "source": [
    "# Converting a List of Strings to Uppercase"
   ]
  },
  {
   "cell_type": "code",
   "execution_count": 7,
   "metadata": {},
   "outputs": [
    {
     "name": "stdout",
     "output_type": "stream",
     "text": [
      "The list of strings in uppercase is: ['APPLE', 'BANANA', 'CHERRY', 'DATE']\n"
     ]
    }
   ],
   "source": [
    "def convert_to_uppercase(strings):\n",
    "    return [s.upper() for s in strings]\n",
    "\n",
    "strings = [\"apple\", \"banana\", \"cherry\", \"date\"]\n",
    "uppercase_strings = convert_to_uppercase(strings)\n",
    "print(f\"The list of strings in uppercase is: {uppercase_strings}\")\n"
   ]
  },
  {
   "cell_type": "markdown",
   "metadata": {},
   "source": []
  },
  {
   "cell_type": "markdown",
   "metadata": {},
   "source": [
    "# Calculating the Total Price Including Tax\n"
   ]
  },
  {
   "cell_type": "code",
   "execution_count": 8,
   "metadata": {},
   "outputs": [
    {
     "name": "stdout",
     "output_type": "stream",
     "text": [
      "The total price including tax is: 41.80\n"
     ]
    }
   ],
   "source": [
    "def calculate_total_price(price, tax_rate):\n",
    "    tax_amount = price * (tax_rate / 100)\n",
    "    total_price = price + tax_amount\n",
    "    return total_price\n",
    "\n",
    "price = float(input(\"Enter the price of the item: \"))\n",
    "tax_rate = float(input(\"Enter the tax rate (in %): \"))\n",
    "total = calculate_total_price(price, tax_rate)\n",
    "print(f\"The total price including tax is: {total:.2f}\")\n"
   ]
  },
  {
   "cell_type": "markdown",
   "metadata": {},
   "source": []
  },
  {
   "cell_type": "markdown",
   "metadata": {},
   "source": [
    "# Finding the Minimum and Maximum Values in a List"
   ]
  },
  {
   "cell_type": "code",
   "execution_count": 9,
   "metadata": {},
   "outputs": [
    {
     "name": "stdout",
     "output_type": "stream",
     "text": [
      "The minimum value is: 12\n",
      "The maximum value is: 89\n"
     ]
    }
   ],
   "source": [
    "def find_min_max(numbers):\n",
    "    return min(numbers), max(numbers)\n",
    "\n",
    "numbers = [23, 45, 12, 78, 56, 89, 34]\n",
    "min_value, max_value = find_min_max(numbers)\n",
    "print(f\"The minimum value is: {min_value}\")\n",
    "print(f\"The maximum value is: {max_value}\")\n"
   ]
  },
  {
   "cell_type": "markdown",
   "metadata": {},
   "source": []
  },
  {
   "cell_type": "markdown",
   "metadata": {},
   "source": [
    "# Checking if a String is a Valid Email Address"
   ]
  },
  {
   "cell_type": "code",
   "execution_count": 10,
   "metadata": {},
   "outputs": [
    {
     "name": "stdout",
     "output_type": "stream",
     "text": [
      "you@gmail.com is a valid email address.\n"
     ]
    }
   ],
   "source": [
    "import re\n",
    "\n",
    "def is_valid_email(email):\n",
    "    pattern = r'^[a-zA-Z0-9_.+-]+@[a-zA-Z0-9-]+\\.[a-zA-Z0-9-.]+$'\n",
    "    return re.match(pattern, email) is not None\n",
    "\n",
    "email = input(\"Enter an email address: \")\n",
    "if is_valid_email(email):\n",
    "    print(f\"{email} is a valid email address.\")\n",
    "else:\n",
    "    print(f\"{email} is not a valid email address.\")\n"
   ]
  },
  {
   "cell_type": "markdown",
   "metadata": {},
   "source": []
  },
  {
   "cell_type": "markdown",
   "metadata": {},
   "source": [
    "# Counting the Frequency of Each Character in a String"
   ]
  },
  {
   "cell_type": "markdown",
   "metadata": {},
   "source": []
  },
  {
   "cell_type": "code",
   "execution_count": 12,
   "metadata": {},
   "outputs": [
    {
     "name": "stdout",
     "output_type": "stream",
     "text": [
      "Character frequencies: {'h': 1, 'i': 1}\n"
     ]
    }
   ],
   "source": [
    "def count_characters(string):\n",
    "    frequency = {}\n",
    "    for char in string:\n",
    "        if char in frequency:\n",
    "            frequency[char] += 1\n",
    "        else:\n",
    "            frequency[char] = 1\n",
    "    return frequency\n",
    "\n",
    "string = input(\"Enter a string: \")\n",
    "result = count_characters(string)\n",
    "print(f\"Character frequencies: {result}\")\n"
   ]
  },
  {
   "cell_type": "markdown",
   "metadata": {},
   "source": [
    "# Managing a Simple Inventory System\n"
   ]
  },
  {
   "cell_type": "code",
   "execution_count": 13,
   "metadata": {},
   "outputs": [
    {
     "name": "stdout",
     "output_type": "stream",
     "text": [
      "Current Inventory:\n",
      "Laptop: Quantity = 10, Price = $1000\n",
      "Smartphone: Quantity = 15, Price = $500\n",
      "\n",
      "Updated Inventory:\n",
      "Laptop: Quantity = 15, Price = $1000\n",
      "Smartphone: Quantity = 15, Price = $500\n"
     ]
    }
   ],
   "source": [
    "class Inventory:\n",
    "    def __init__(self):\n",
    "        self.items = []\n",
    "\n",
    "    def add_item(self, name, quantity, price):\n",
    "        self.items.append({'name': name, 'quantity': quantity, 'price': price})\n",
    "\n",
    "    def update_quantity(self, name, quantity):\n",
    "        for item in self.items:\n",
    "            if item['name'] == name:\n",
    "                item['quantity'] += quantity\n",
    "                return\n",
    "        print(f\"{name} not found in inventory.\")\n",
    "\n",
    "    def display_inventory(self):\n",
    "        if not self.items:\n",
    "            print(\"Inventory is empty.\")\n",
    "        else:\n",
    "            for item in self.items:\n",
    "                print(f\"{item['name']}: Quantity = {item['quantity']}, Price = ${item['price']}\")\n",
    "\n",
    "inventory = Inventory()\n",
    "\n",
    "inventory.add_item(\"Laptop\", 10, 1000)\n",
    "inventory.add_item(\"Smartphone\", 15, 500)\n",
    "\n",
    "print(\"Current Inventory:\")\n",
    "inventory.display_inventory()\n",
    "\n",
    "inventory.update_quantity(\"Laptop\", 5)\n",
    "\n",
    "print(\"\\nUpdated Inventory:\")\n",
    "inventory.display_inventory()\n"
   ]
  },
  {
   "cell_type": "markdown",
   "metadata": {},
   "source": [
    "# Simple Calculator Class"
   ]
  },
  {
   "cell_type": "code",
   "execution_count": 14,
   "metadata": {},
   "outputs": [
    {
     "name": "stdout",
     "output_type": "stream",
     "text": [
      "15\n",
      "5\n",
      "50\n",
      "2.0\n"
     ]
    }
   ],
   "source": [
    "class Calculator:\n",
    "  def __init__(self,num1,num2):\n",
    "    self.num1=num1\n",
    "    self.num2=num2\n",
    "  def add(self):\n",
    "    return self.num1+self.num2\n",
    "  def subtract(self):\n",
    "    return self.num1-self.num2\n",
    "  def multiply(self):\n",
    "    return self.num1*self.num2\n",
    "  def divide(self):\n",
    "    return self.num1/self.num2\n",
    "calculator=Calculator(10,5)\n",
    "print(calculator.add())\n",
    "print(calculator.subtract())\n",
    "print(calculator.multiply())\n",
    "print(calculator.divide())"
   ]
  },
  {
   "cell_type": "markdown",
   "metadata": {},
   "source": [
    "# Creating a Student Management System"
   ]
  },
  {
   "cell_type": "code",
   "execution_count": 15,
   "metadata": {},
   "outputs": [
    {
     "name": "stdout",
     "output_type": "stream",
     "text": [
      "Name: alice ,age: 21 ,grade= 99\n",
      "Name: youssef ,age: 22 ,grade= 98\n"
     ]
    }
   ],
   "source": [
    "class student:\n",
    "  def __init__(self, name, age, grade):\n",
    "    self.name = name\n",
    "    self.age = age\n",
    "    self.grade = grade\n",
    "\n",
    "  def display_info(self):\n",
    "        print(\"Name:\", self.name,\",\" \"age:\", self.age,\",\" \"grade=\",self.grade)\n",
    "student1=student(\"alice\",21,99)\n",
    "student2=student(\"youssef\",22,98)\n",
    "student1.display_info()\n",
    "student2.display_info()"
   ]
  },
  {
   "cell_type": "markdown",
   "metadata": {},
   "source": []
  },
  {
   "cell_type": "markdown",
   "metadata": {},
   "source": [
    "# Modeling a Bank Account"
   ]
  },
  {
   "cell_type": "code",
   "execution_count": 16,
   "metadata": {},
   "outputs": [
    {
     "name": "stdout",
     "output_type": "stream",
     "text": [
      "Account Number: 123456789, Balance: 1500\n",
      "Account Number: 987654321, Balance: 1000\n"
     ]
    }
   ],
   "source": [
    "class BankAccount:\n",
    "    def __init__(self, account_number, balance):\n",
    "        self.account_number = account_number\n",
    "        self.balance = balance\n",
    "\n",
    "    def deposit(self, amount):\n",
    "        self.balance += amount\n",
    "\n",
    "    def withdraw(self, amount):\n",
    "        if self.balance >= amount:\n",
    "            self.balance -= amount\n",
    "        else:\n",
    "            print(\"Insufficient funds\")\n",
    "\n",
    "    def get_balance(self):\n",
    "        return self.balance\n",
    "\n",
    "    def __str__(self):\n",
    "        return f\"Account Number: {self.account_number}, Balance: {self.balance}\"\n",
    "bankaccount1=BankAccount(\"123456789\",1000)\n",
    "bankaccount2=BankAccount(\"987654321\",2000)\n",
    "bankaccount1.deposit(500)\n",
    "bankaccount2.withdraw(1000)\n",
    "print(bankaccount1)\n",
    "print(bankaccount2)\n"
   ]
  },
  {
   "cell_type": "markdown",
   "metadata": {},
   "source": [
    "# Modeling a Simple Library System\n"
   ]
  },
  {
   "cell_type": "code",
   "execution_count": 17,
   "metadata": {},
   "outputs": [
    {
     "name": "stdout",
     "output_type": "stream",
     "text": [
      "[]\n",
      "['book2']\n"
     ]
    }
   ],
   "source": [
    "class Library:\n",
    "    def __init__(self):\n",
    "        self.books = []\n",
    "\n",
    "    def add_book(self, book):\n",
    "        self.books.append(book)\n",
    "\n",
    "    def remove_book(self, book):\n",
    "        self.books.remove(book)\n",
    "book1=Library()\n",
    "book2=Library()\n",
    "book1.add_book(\"book1\")\n",
    "book2.add_book(\"book2\")\n",
    "book1.remove_book(\"book1\")\n",
    "print(book1.books)\n",
    "print(book2.books)"
   ]
  },
  {
   "cell_type": "markdown",
   "metadata": {},
   "source": []
  },
  {
   "cell_type": "markdown",
   "metadata": {},
   "source": [
    "# Simple Voting System"
   ]
  },
  {
   "cell_type": "code",
   "execution_count": 22,
   "metadata": {},
   "outputs": [
    {
     "name": "stdout",
     "output_type": "stream",
     "text": [
      "\n",
      "Voting Results:\n",
      "Alice: 2 votes\n",
      "Bob: 1 votes\n"
     ]
    }
   ],
   "source": [
    "class VotingSystem:\n",
    "    def __init__(self):\n",
    "        self.candidates = {}\n",
    "    \n",
    "    def add_candidate(self, name):\n",
    "        self.candidates[name] = 0\n",
    "    \n",
    "    def vote(self, name):\n",
    "        if name in self.candidates:\n",
    "            self.candidates[name] += 1\n",
    "        else:\n",
    "            print(f\"{name} is not a valid candidate.\")\n",
    "    \n",
    "    def display_results(self):\n",
    "        if not self.candidates:\n",
    "            print(\"No candidates available.\")\n",
    "        else:\n",
    "            for candidate, votes in self.candidates.items():\n",
    "                print(f\"{candidate}: {votes} votes\")\n",
    "\n",
    "voting_system = VotingSystem()\n",
    "\n",
    "voting_system.add_candidate(\"Alice\")\n",
    "voting_system.add_candidate(\"Bob\")\n",
    "\n",
    "voting_system.vote(\"Alice\")\n",
    "voting_system.vote(\"Bob\")\n",
    "voting_system.vote(\"Alice\")\n",
    "\n",
    "print(\"\\nVoting Results:\")\n",
    "voting_system.display_results()\n"
   ]
  },
  {
   "cell_type": "markdown",
   "metadata": {},
   "source": [
    "# Simple Temperature Converter"
   ]
  },
  {
   "cell_type": "code",
   "execution_count": 21,
   "metadata": {},
   "outputs": [
    {
     "name": "stdout",
     "output_type": "stream",
     "text": [
      "25°C = 77.0°F\n",
      "25°C = 298.15K\n"
     ]
    }
   ],
   "source": [
    "class TemperatureConverter:\n",
    "    def celsius_to_fahrenheit(self, celsius):\n",
    "        return (celsius * 9/5) + 32\n",
    "    \n",
    "    def fahrenheit_to_celsius(self, fahrenheit):\n",
    "        return (fahrenheit - 32) * 5/9\n",
    "    \n",
    "    def celsius_to_kelvin(self, celsius):\n",
    "        return celsius + 273.15\n",
    "    \n",
    "    def kelvin_to_celsius(self, kelvin):\n",
    "        return kelvin - 273.15\n",
    "    \n",
    "    def fahrenheit_to_kelvin(self, fahrenheit):\n",
    "        return (fahrenheit - 32) * 5/9 + 273.15\n",
    "    \n",
    "    def kelvin_to_fahrenheit(self, kelvin):\n",
    "        return (kelvin - 273.15) * 9/5 + 32\n",
    "\n",
    "converter = TemperatureConverter()\n",
    "\n",
    "celsius = 25\n",
    "fahrenheit = converter.celsius_to_fahrenheit(celsius)\n",
    "kelvin = converter.celsius_to_kelvin(celsius)\n",
    "\n",
    "print(f\"{celsius}°C = {fahrenheit}°F\")\n",
    "print(f\"{celsius}°C = {kelvin}K\")\n"
   ]
  },
  {
   "cell_type": "markdown",
   "metadata": {},
   "source": [
    "# Modeling a Car Rental System"
   ]
  },
  {
   "cell_type": "code",
   "execution_count": 20,
   "metadata": {},
   "outputs": [
    {
     "name": "stdout",
     "output_type": "stream",
     "text": [
      "\n",
      "Available Cars:\n",
      "Toyota Camry - $50 per day - Available\n",
      "Honda Civic - $40 per day - Available\n",
      "Ford Mustang - $100 per day - Available\n",
      "Toyota Camry has been rented!\n",
      "Honda Civic has been rented!\n",
      "Toyota Camry has been returned!\n",
      "\n",
      "Available Cars:\n",
      "Toyota Camry - $50 per day - Available\n",
      "Honda Civic - $40 per day - Rented\n",
      "Ford Mustang - $100 per day - Available\n"
     ]
    }
   ],
   "source": [
    "class CarRentalSystem:\n",
    "    def __init__(self):\n",
    "        self.cars = []\n",
    "\n",
    "    def add_car(self, car_name, rental_price):\n",
    "        self.cars.append({'car_name': car_name, 'rental_price': rental_price, 'rented': False})\n",
    "\n",
    "    def rent_car(self, car_name):\n",
    "        for car in self.cars:\n",
    "            if car['car_name'] == car_name and not car['rented']:\n",
    "                car['rented'] = True\n",
    "                print(f\"{car_name} has been rented!\")\n",
    "                return\n",
    "        print(f\"Sorry, {car_name} is either not available or already rented.\")\n",
    "\n",
    "    def return_car(self, car_name):\n",
    "        for car in self.cars:\n",
    "            if car['car_name'] == car_name and car['rented']:\n",
    "                car['rented'] = False\n",
    "                print(f\"{car_name} has been returned!\")\n",
    "                return\n",
    "        print(f\"Sorry, {car_name} was not rented or not found.\")\n",
    "\n",
    "    def display_cars(self):\n",
    "        print(\"\\nAvailable Cars:\")\n",
    "        for car in self.cars:\n",
    "            status = \"Rented\" if car['rented'] else \"Available\"\n",
    "            print(f\"{car['car_name']} - ${car['rental_price']} per day - {status}\")\n",
    "\n",
    "rental_system = CarRentalSystem()\n",
    "\n",
    "rental_system.add_car(\"Toyota Camry\", 50)\n",
    "rental_system.add_car(\"Honda Civic\", 40)\n",
    "rental_system.add_car(\"Ford Mustang\", 100)\n",
    "\n",
    "rental_system.display_cars()\n",
    "\n",
    "rental_system.rent_car(\"Toyota Camry\")\n",
    "rental_system.rent_car(\"Honda Civic\")\n",
    "rental_system.return_car(\"Toyota Camry\")\n",
    "rental_system.display_cars()\n"
   ]
  }
 ],
 "metadata": {
  "kernelspec": {
   "display_name": "base",
   "language": "python",
   "name": "python3"
  },
  "language_info": {
   "codemirror_mode": {
    "name": "ipython",
    "version": 3
   },
   "file_extension": ".py",
   "mimetype": "text/x-python",
   "name": "python",
   "nbconvert_exporter": "python",
   "pygments_lexer": "ipython3",
   "version": "3.9.13"
  }
 },
 "nbformat": 4,
 "nbformat_minor": 4
}
